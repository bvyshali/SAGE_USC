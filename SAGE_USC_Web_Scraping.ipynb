{
 "cells": [
  {
   "cell_type": "markdown",
   "metadata": {},
   "source": [
    "<img align=\"right\" src=\"http://admit.usc.edu/images/usc-logo.jpg\" width=\"350px\" height=\"350px\"/>\n",
    "<h1 style=\"font-size:20pt\">SAGE Project | Web Scraping </h1><br/>\n",
    "<b> Author: </b> Vyshali Badanidyoor<br/>\n",
    "<b> Created: </b>13 December 2020<br/>\n",
    "<b>Version: </b>v20.01.02<br/>"
   ]
  },
  {
   "cell_type": "markdown",
   "metadata": {},
   "source": [
    "## Table of Contents:\n",
    "\n",
    "* [1. Import Required Packages](#import-packages-1)\n",
    "* [2. Define Page URL](#define-url)\n",
    "* [3. Extract page content and parse HTML](#extract-page-content)\n",
    "* [4. Data Manipulation](#data-manipulation)\n",
    "* [5. References](#references)"
   ]
  },
  {
   "cell_type": "markdown",
   "metadata": {},
   "source": [
    "### 1. Import required packages <a class=\"anchor\" id=\"import-packages-1\"></a>"
   ]
  },
  {
   "cell_type": "code",
   "execution_count": 37,
   "metadata": {},
   "outputs": [],
   "source": [
    "# Module to convert dates into specific formats\n",
    "try:\n",
    "    import dateutil.parser as parser\n",
    "    from datetime import timedelta, date\n",
    "except:\n",
    "    print('Failed to load requirement - dateutil.parser')\n",
    "\n",
    "# Library to make HTTP requests\n",
    "try:\n",
    "    import requests\n",
    "except:\n",
    "    print('Failed to load requirement - requests')\n",
    "\n",
    "# Package to parse HTML and XML webpages\n",
    "try:\n",
    "    from bs4 import BeautifulSoup\n",
    "except:\n",
    "    print('Failed to load requirement - Beautiful Soup')\n",
    "\n",
    "# library for data manipulation and analysis\n",
    "try:\n",
    "    import pandas as pd\n",
    "except:\n",
    "    print('Failed to load requirement - pandas')"
   ]
  },
  {
   "cell_type": "markdown",
   "metadata": {},
   "source": [
    "### 2. Define Page URL<a class=\"anchor\" id=\"define-url\"></a>"
   ]
  },
  {
   "cell_type": "code",
   "execution_count": 38,
   "metadata": {},
   "outputs": [],
   "source": [
    "pageUrl = 'https://en.wikipedia.org/wiki/2019_in_spaceflight#Orbital_launches'"
   ]
  },
  {
   "cell_type": "markdown",
   "metadata": {},
   "source": [
    "### 3. Extract page content and parse HTML <a class=\"anchor\" id=\"extract-page-content\"></a>"
   ]
  },
  {
   "cell_type": "code",
   "execution_count": 39,
   "metadata": {},
   "outputs": [],
   "source": [
    "# Extract page content\n",
    "response = requests.get(pageUrl)\n",
    "html = response.content"
   ]
  },
  {
   "cell_type": "code",
   "execution_count": 40,
   "metadata": {},
   "outputs": [],
   "source": [
    "# Convert HTML to beautifulsoup format for parsing\n",
    "soup = BeautifulSoup(html, 'html.parser')"
   ]
  },
  {
   "cell_type": "markdown",
   "metadata": {},
   "source": [
    "#### 3.1 Find class selector of table of interest"
   ]
  },
  {
   "cell_type": "code",
   "execution_count": 41,
   "metadata": {},
   "outputs": [],
   "source": [
    "# Extract 'Orbital Launches' table content using class selector 'wikitable collapsible'\n",
    "tableOuput = soup.find('table',{'class':'wikitable collapsible'})"
   ]
  },
  {
   "cell_type": "markdown",
   "metadata": {},
   "source": [
    "#### 3.2 Initialize variables"
   ]
  },
  {
   "cell_type": "code",
   "execution_count": 42,
   "metadata": {},
   "outputs": [],
   "source": [
    "# Main iterator variable for every row in 'Orbital Launches' table\n",
    "i=4\n",
    "\n",
    "# List variable to hold date and launch status for each orbital launch in 2019\n",
    "orbitalLaunchlist = []\n",
    "\n",
    "# Variable to track number of payloads corresponding to each launch date and time\n",
    "rowspan=0\n",
    "\n",
    "# List to define criteria of successful launch based on launch status\n",
    "successList = ['Successful', 'Operational', 'En Route']"
   ]
  },
  {
   "cell_type": "markdown",
   "metadata": {},
   "source": [
    "#### 3.3 Logic to get date and launch status for each orbital launch in 2019"
   ]
  },
  {
   "cell_type": "code",
   "execution_count": 43,
   "metadata": {},
   "outputs": [],
   "source": [
    "while i !=0:\n",
    "    \n",
    "    # Make 'Orbital Launches' table content accessible inside while loop\n",
    "    global tableOutput\n",
    "    \n",
    "    # Make 'successList' variable accessible inside loop\n",
    "    global successList\n",
    "    \n",
    "    # List variable to hold status of each launch\n",
    "    rowSubStatusList = []\n",
    "    \n",
    "    # Extract content of one row in 'Orbital Launches' table\n",
    "    try:\n",
    "        row = tableOuput.findAll('tr')[i]\n",
    "    # Break out of loop when end of table is reached\n",
    "    except:\n",
    "        break\n",
    "    \n",
    "    # Extract colspan of row\n",
    "    colspan = row.find('td').get(\"colspan\")\n",
    "    \n",
    "    # Logic to skip rows that provide navigation to different months of the year\n",
    "    if colspan is not None and int(colspan)==7:\n",
    "        # Increment iterator to point to row that has actual launch details\n",
    "        i=i+2\n",
    "        # Extract row contents\n",
    "        row = tableOuput.findAll('tr')[i]\n",
    "    \n",
    "    # Extract date of orbital launch\n",
    "    try:\n",
    "        rowDate = row.find('td').find('span').contents[0]+ ' 2019 '\n",
    "    except:\n",
    "        rowDate = ''\n",
    "    \n",
    "    # Extract rowspan variable to track number of payloads corresponding to each launch date and time\n",
    "    try:\n",
    "        rowspan = row.find('td').get(\"rowspan\")\n",
    "    except:\n",
    "        rowspan = 'None'\n",
    "    \n",
    "    # Loop to iterate over payloads corresponding to each launch date and time\n",
    "    for j in range(1,int(rowspan)):\n",
    "        \n",
    "        # Extract row content of each payload\n",
    "        try:\n",
    "            rowSub = tableOuput.findAll('tr')[i+j]\n",
    "        except:\n",
    "            rowSub = ''\n",
    "        \n",
    "        # Extract status of launch for each payload and append to list\n",
    "        try:\n",
    "            rowSubStatus = rowSub.findAll('td')[5].contents[0].strip()\n",
    "            rowSubStatusList.append(rowSubStatus)\n",
    "        except:\n",
    "            rowSubStatus = 'None'\n",
    "        \n",
    "        # If payload launch was successful, then break from second loop and go to next launch date-time\n",
    "        if rowSubStatus in successList: \n",
    "            break\n",
    "        # If payload launch was unsuccessful, then repeat steps above (in inner loop) and keep only status of successful launch (if any)\n",
    "        else:\n",
    "            rowSubStatusList = [x for x in rowSubStatusList if x in successList]\n",
    "            \n",
    "    # Increment main iterator to point to next launch date-time\n",
    "    if rowspan is not None:\n",
    "        i = i+int(rowspan)\n",
    "    \n",
    "    # Append launch date and status to 'orbitalLaunchlist'\n",
    "    orbitalLaunchlist.append([rowDate, rowSubStatusList])"
   ]
  },
  {
   "cell_type": "code",
   "execution_count": 44,
   "metadata": {},
   "outputs": [
    {
     "data": {
      "text/plain": [
       "[['10 January 2019 ', ['Operational']],\n",
       " ['11 January 2019 ', ['Operational']],\n",
       " ['15 January 2019 ', []],\n",
       " ['18 January 2019 ', ['Operational']],\n",
       " ['19 January 2019 ', ['Operational']],\n",
       " ['21 January 2019 ', ['Operational']],\n",
       " ['24 January 2019 ', ['Operational']],\n",
       " ['5 February 2019 ', []],\n",
       " ['5 February 2019 ', ['Operational']],\n",
       " ['21 February 2019 ', ['Operational']]]"
      ]
     },
     "execution_count": 44,
     "metadata": {},
     "output_type": "execute_result"
    }
   ],
   "source": [
    "# Preview list contents\n",
    "orbitalLaunchlist[:10]"
   ]
  },
  {
   "cell_type": "markdown",
   "metadata": {},
   "source": [
    "### 4. Data Manipulation<a class=\"anchor\" id=\"data-manipulation\"></a>"
   ]
  },
  {
   "cell_type": "code",
   "execution_count": 45,
   "metadata": {},
   "outputs": [],
   "source": [
    "# Convert list to dataframe and rename columns\n",
    "orbitalLaunchDf = pd.DataFrame(orbitalLaunchlist, columns = ['date' , 'LaunchStatus'])"
   ]
  },
  {
   "cell_type": "code",
   "execution_count": 46,
   "metadata": {},
   "outputs": [
    {
     "data": {
      "text/html": [
       "<div>\n",
       "<style scoped>\n",
       "    .dataframe tbody tr th:only-of-type {\n",
       "        vertical-align: middle;\n",
       "    }\n",
       "\n",
       "    .dataframe tbody tr th {\n",
       "        vertical-align: top;\n",
       "    }\n",
       "\n",
       "    .dataframe thead th {\n",
       "        text-align: right;\n",
       "    }\n",
       "</style>\n",
       "<table border=\"1\" class=\"dataframe\">\n",
       "  <thead>\n",
       "    <tr style=\"text-align: right;\">\n",
       "      <th></th>\n",
       "      <th>date</th>\n",
       "      <th>LaunchStatus</th>\n",
       "    </tr>\n",
       "  </thead>\n",
       "  <tbody>\n",
       "    <tr>\n",
       "      <td>0</td>\n",
       "      <td>10 January 2019</td>\n",
       "      <td>[Operational]</td>\n",
       "    </tr>\n",
       "    <tr>\n",
       "      <td>1</td>\n",
       "      <td>11 January 2019</td>\n",
       "      <td>[Operational]</td>\n",
       "    </tr>\n",
       "    <tr>\n",
       "      <td>2</td>\n",
       "      <td>15 January 2019</td>\n",
       "      <td>[]</td>\n",
       "    </tr>\n",
       "    <tr>\n",
       "      <td>3</td>\n",
       "      <td>18 January 2019</td>\n",
       "      <td>[Operational]</td>\n",
       "    </tr>\n",
       "    <tr>\n",
       "      <td>4</td>\n",
       "      <td>19 January 2019</td>\n",
       "      <td>[Operational]</td>\n",
       "    </tr>\n",
       "  </tbody>\n",
       "</table>\n",
       "</div>"
      ],
      "text/plain": [
       "               date   LaunchStatus\n",
       "0  10 January 2019   [Operational]\n",
       "1  11 January 2019   [Operational]\n",
       "2  15 January 2019              []\n",
       "3  18 January 2019   [Operational]\n",
       "4  19 January 2019   [Operational]"
      ]
     },
     "execution_count": 46,
     "metadata": {},
     "output_type": "execute_result"
    }
   ],
   "source": [
    "# Preview dataframe\n",
    "orbitalLaunchDf.head()"
   ]
  },
  {
   "cell_type": "code",
   "execution_count": 47,
   "metadata": {},
   "outputs": [],
   "source": [
    "orbitalLaunchDf['LaunchStatus'] = orbitalLaunchDf['LaunchStatus'].str[0]"
   ]
  },
  {
   "cell_type": "code",
   "execution_count": 48,
   "metadata": {},
   "outputs": [],
   "source": [
    "# Replace launch status with numeric values\n",
    "orbitalLaunchDf['LaunchStatus'].replace(['Operational', 'Successful', 'En route'], 1, inplace=True)\n",
    "orbitalLaunchDf['LaunchStatus'].fillna(0, inplace=True)"
   ]
  },
  {
   "cell_type": "code",
   "execution_count": 49,
   "metadata": {},
   "outputs": [],
   "source": [
    "# Rename columns\n",
    "orbitalLaunchDf.rename(columns={\"LaunchStatus\": \"value\"}, inplace=True)"
   ]
  },
  {
   "cell_type": "code",
   "execution_count": 50,
   "metadata": {},
   "outputs": [],
   "source": [
    "# Convert to Pandas datetime format for date manipulation\n",
    "orbitalLaunchDf['date'] = pd.to_datetime(orbitalLaunchDf['date'])"
   ]
  },
  {
   "cell_type": "code",
   "execution_count": 51,
   "metadata": {},
   "outputs": [],
   "source": [
    "# Aggregate launches based on date\n",
    "orbitalLaunchDf = orbitalLaunchDf.groupby(by='date').agg({'value': 'sum'}).reset_index()"
   ]
  },
  {
   "cell_type": "code",
   "execution_count": 52,
   "metadata": {},
   "outputs": [
    {
     "data": {
      "text/html": [
       "<div>\n",
       "<style scoped>\n",
       "    .dataframe tbody tr th:only-of-type {\n",
       "        vertical-align: middle;\n",
       "    }\n",
       "\n",
       "    .dataframe tbody tr th {\n",
       "        vertical-align: top;\n",
       "    }\n",
       "\n",
       "    .dataframe thead th {\n",
       "        text-align: right;\n",
       "    }\n",
       "</style>\n",
       "<table border=\"1\" class=\"dataframe\">\n",
       "  <thead>\n",
       "    <tr style=\"text-align: right;\">\n",
       "      <th></th>\n",
       "      <th>date</th>\n",
       "      <th>value</th>\n",
       "    </tr>\n",
       "  </thead>\n",
       "  <tbody>\n",
       "    <tr>\n",
       "      <td>0</td>\n",
       "      <td>2019-01-10</td>\n",
       "      <td>1.0</td>\n",
       "    </tr>\n",
       "    <tr>\n",
       "      <td>1</td>\n",
       "      <td>2019-01-11</td>\n",
       "      <td>1.0</td>\n",
       "    </tr>\n",
       "    <tr>\n",
       "      <td>2</td>\n",
       "      <td>2019-01-15</td>\n",
       "      <td>0.0</td>\n",
       "    </tr>\n",
       "    <tr>\n",
       "      <td>3</td>\n",
       "      <td>2019-01-18</td>\n",
       "      <td>1.0</td>\n",
       "    </tr>\n",
       "    <tr>\n",
       "      <td>4</td>\n",
       "      <td>2019-01-19</td>\n",
       "      <td>1.0</td>\n",
       "    </tr>\n",
       "  </tbody>\n",
       "</table>\n",
       "</div>"
      ],
      "text/plain": [
       "        date  value\n",
       "0 2019-01-10    1.0\n",
       "1 2019-01-11    1.0\n",
       "2 2019-01-15    0.0\n",
       "3 2019-01-18    1.0\n",
       "4 2019-01-19    1.0"
      ]
     },
     "execution_count": 52,
     "metadata": {},
     "output_type": "execute_result"
    }
   ],
   "source": [
    "# Preview manipulated dataframe\n",
    "orbitalLaunchDf.head()"
   ]
  },
  {
   "cell_type": "code",
   "execution_count": 53,
   "metadata": {},
   "outputs": [],
   "source": [
    "# Include all dates in 2019\n",
    "def getDatesInDateRange(start, end):\n",
    "    for n in range(int ((end - start).days)+1):\n",
    "        yield start + timedelta(n)\n",
    "\n",
    "# Define start and end dates of 2019\n",
    "startDate = date(2019, 1, 1)\n",
    "endDate = date(2019, 12, 31)\n",
    "\n",
    "# Initialize list to contain all dates in 2019\n",
    "dateRangeList = []\n",
    "\n",
    "# Iterate over each date in date range specified\n",
    "for dt in getDatesInDateRange(startDate, endDate):\n",
    "    dateRangeList.append(dt.strftime(\"%Y-%m-%d\"))\n",
    "    \n",
    "# Convert list to dataframe\n",
    "dateRangeDf = pd.DataFrame(dateRangeList, columns=['date'])\n",
    "\n",
    "# Convert string to datetime object\n",
    "dateRangeDf['date'] = pd.to_datetime(dateRangeDf['date'])"
   ]
  },
  {
   "cell_type": "code",
   "execution_count": 54,
   "metadata": {},
   "outputs": [
    {
     "data": {
      "text/html": [
       "<div>\n",
       "<style scoped>\n",
       "    .dataframe tbody tr th:only-of-type {\n",
       "        vertical-align: middle;\n",
       "    }\n",
       "\n",
       "    .dataframe tbody tr th {\n",
       "        vertical-align: top;\n",
       "    }\n",
       "\n",
       "    .dataframe thead th {\n",
       "        text-align: right;\n",
       "    }\n",
       "</style>\n",
       "<table border=\"1\" class=\"dataframe\">\n",
       "  <thead>\n",
       "    <tr style=\"text-align: right;\">\n",
       "      <th></th>\n",
       "      <th>date</th>\n",
       "    </tr>\n",
       "  </thead>\n",
       "  <tbody>\n",
       "    <tr>\n",
       "      <td>0</td>\n",
       "      <td>2019-01-01</td>\n",
       "    </tr>\n",
       "    <tr>\n",
       "      <td>1</td>\n",
       "      <td>2019-01-02</td>\n",
       "    </tr>\n",
       "    <tr>\n",
       "      <td>2</td>\n",
       "      <td>2019-01-03</td>\n",
       "    </tr>\n",
       "    <tr>\n",
       "      <td>3</td>\n",
       "      <td>2019-01-04</td>\n",
       "    </tr>\n",
       "    <tr>\n",
       "      <td>4</td>\n",
       "      <td>2019-01-05</td>\n",
       "    </tr>\n",
       "  </tbody>\n",
       "</table>\n",
       "</div>"
      ],
      "text/plain": [
       "        date\n",
       "0 2019-01-01\n",
       "1 2019-01-02\n",
       "2 2019-01-03\n",
       "3 2019-01-04\n",
       "4 2019-01-05"
      ]
     },
     "execution_count": 54,
     "metadata": {},
     "output_type": "execute_result"
    }
   ],
   "source": [
    "# Preview dataframe\n",
    "dateRangeDf.head()"
   ]
  },
  {
   "cell_type": "code",
   "execution_count": 55,
   "metadata": {},
   "outputs": [],
   "source": [
    "# Aggregate launches based on date\n",
    "finalOrbitalLaunchDf = pd.merge(dateRangeDf, orbitalLaunchDf, on='date', how='left')\n",
    "\n",
    "# Fill a value of 0 for dates with no launches\n",
    "finalOrbitalLaunchDf['value'].fillna(0, inplace=True)"
   ]
  },
  {
   "cell_type": "code",
   "execution_count": 56,
   "metadata": {},
   "outputs": [],
   "source": [
    "# Coerce values from float64 to int64\n",
    "finalOrbitalLaunchDf['value'] = finalOrbitalLaunchDf['value'].astype(int)"
   ]
  },
  {
   "cell_type": "code",
   "execution_count": 57,
   "metadata": {},
   "outputs": [
    {
     "data": {
      "text/html": [
       "<div>\n",
       "<style scoped>\n",
       "    .dataframe tbody tr th:only-of-type {\n",
       "        vertical-align: middle;\n",
       "    }\n",
       "\n",
       "    .dataframe tbody tr th {\n",
       "        vertical-align: top;\n",
       "    }\n",
       "\n",
       "    .dataframe thead th {\n",
       "        text-align: right;\n",
       "    }\n",
       "</style>\n",
       "<table border=\"1\" class=\"dataframe\">\n",
       "  <thead>\n",
       "    <tr style=\"text-align: right;\">\n",
       "      <th></th>\n",
       "      <th>date</th>\n",
       "      <th>value</th>\n",
       "    </tr>\n",
       "  </thead>\n",
       "  <tbody>\n",
       "    <tr>\n",
       "      <td>0</td>\n",
       "      <td>2019-01-01</td>\n",
       "      <td>0</td>\n",
       "    </tr>\n",
       "    <tr>\n",
       "      <td>1</td>\n",
       "      <td>2019-01-02</td>\n",
       "      <td>0</td>\n",
       "    </tr>\n",
       "    <tr>\n",
       "      <td>2</td>\n",
       "      <td>2019-01-03</td>\n",
       "      <td>0</td>\n",
       "    </tr>\n",
       "    <tr>\n",
       "      <td>3</td>\n",
       "      <td>2019-01-04</td>\n",
       "      <td>0</td>\n",
       "    </tr>\n",
       "    <tr>\n",
       "      <td>4</td>\n",
       "      <td>2019-01-05</td>\n",
       "      <td>0</td>\n",
       "    </tr>\n",
       "    <tr>\n",
       "      <td>5</td>\n",
       "      <td>2019-01-06</td>\n",
       "      <td>0</td>\n",
       "    </tr>\n",
       "    <tr>\n",
       "      <td>6</td>\n",
       "      <td>2019-01-07</td>\n",
       "      <td>0</td>\n",
       "    </tr>\n",
       "    <tr>\n",
       "      <td>7</td>\n",
       "      <td>2019-01-08</td>\n",
       "      <td>0</td>\n",
       "    </tr>\n",
       "    <tr>\n",
       "      <td>8</td>\n",
       "      <td>2019-01-09</td>\n",
       "      <td>0</td>\n",
       "    </tr>\n",
       "    <tr>\n",
       "      <td>9</td>\n",
       "      <td>2019-01-10</td>\n",
       "      <td>1</td>\n",
       "    </tr>\n",
       "    <tr>\n",
       "      <td>10</td>\n",
       "      <td>2019-01-11</td>\n",
       "      <td>1</td>\n",
       "    </tr>\n",
       "    <tr>\n",
       "      <td>11</td>\n",
       "      <td>2019-01-12</td>\n",
       "      <td>0</td>\n",
       "    </tr>\n",
       "    <tr>\n",
       "      <td>12</td>\n",
       "      <td>2019-01-13</td>\n",
       "      <td>0</td>\n",
       "    </tr>\n",
       "    <tr>\n",
       "      <td>13</td>\n",
       "      <td>2019-01-14</td>\n",
       "      <td>0</td>\n",
       "    </tr>\n",
       "    <tr>\n",
       "      <td>14</td>\n",
       "      <td>2019-01-15</td>\n",
       "      <td>0</td>\n",
       "    </tr>\n",
       "    <tr>\n",
       "      <td>15</td>\n",
       "      <td>2019-01-16</td>\n",
       "      <td>0</td>\n",
       "    </tr>\n",
       "    <tr>\n",
       "      <td>16</td>\n",
       "      <td>2019-01-17</td>\n",
       "      <td>0</td>\n",
       "    </tr>\n",
       "    <tr>\n",
       "      <td>17</td>\n",
       "      <td>2019-01-18</td>\n",
       "      <td>1</td>\n",
       "    </tr>\n",
       "    <tr>\n",
       "      <td>18</td>\n",
       "      <td>2019-01-19</td>\n",
       "      <td>1</td>\n",
       "    </tr>\n",
       "    <tr>\n",
       "      <td>19</td>\n",
       "      <td>2019-01-20</td>\n",
       "      <td>0</td>\n",
       "    </tr>\n",
       "  </tbody>\n",
       "</table>\n",
       "</div>"
      ],
      "text/plain": [
       "         date  value\n",
       "0  2019-01-01      0\n",
       "1  2019-01-02      0\n",
       "2  2019-01-03      0\n",
       "3  2019-01-04      0\n",
       "4  2019-01-05      0\n",
       "5  2019-01-06      0\n",
       "6  2019-01-07      0\n",
       "7  2019-01-08      0\n",
       "8  2019-01-09      0\n",
       "9  2019-01-10      1\n",
       "10 2019-01-11      1\n",
       "11 2019-01-12      0\n",
       "12 2019-01-13      0\n",
       "13 2019-01-14      0\n",
       "14 2019-01-15      0\n",
       "15 2019-01-16      0\n",
       "16 2019-01-17      0\n",
       "17 2019-01-18      1\n",
       "18 2019-01-19      1\n",
       "19 2019-01-20      0"
      ]
     },
     "execution_count": 57,
     "metadata": {},
     "output_type": "execute_result"
    }
   ],
   "source": [
    "finalOrbitalLaunchDf.head(20)"
   ]
  },
  {
   "cell_type": "code",
   "execution_count": 58,
   "metadata": {},
   "outputs": [],
   "source": [
    "# Write dataframe to CSV\n",
    "finalOrbitalLaunchDf.to_csv('_output.csv')"
   ]
  },
  {
   "cell_type": "markdown",
   "metadata": {},
   "source": [
    "### 5. References <a class=\"anchor\" id=\"refernces\"></a>"
   ]
  },
  {
   "cell_type": "markdown",
   "metadata": {},
   "source": [
    "* [Web Scraping Wiki Tables](https://medium.com/analytics-vidhya/web-scraping-wiki-tables-using-beautifulsoup-and-python-6b9ea26d8722)<br>\n",
    "* [BeautifulSoup Documentation](https://www.crummy.com/software/BeautifulSoup/bs4/doc/)<br>\n",
    "* [Replace Dataframe Values](https://stackoverflow.com/questions/27060098/replacing-few-values-in-a-pandas-dataframe-column-with-another-value)<br>\n",
    "* [Convert String to ISO8601 Format](https://stackoverflow.com/questions/4460698/python-convert-string-representation-of-date-to-iso-8601)<br>\n",
    "* [Delete List Items](https://stackoverflow.com/questions/7623715/deleting-list-elements-based-on-condition)<br>\n",
    "* [Get dates in a range](https://www.w3resource.com/python-exercises/date-time-exercise/python-date-time-exercise-50.php)<br>"
   ]
  }
 ],
 "metadata": {
  "kernelspec": {
   "display_name": "Python 3",
   "language": "python",
   "name": "python3"
  },
  "language_info": {
   "codemirror_mode": {
    "name": "ipython",
    "version": 3
   },
   "file_extension": ".py",
   "mimetype": "text/x-python",
   "name": "python",
   "nbconvert_exporter": "python",
   "pygments_lexer": "ipython3",
   "version": "3.7.4"
  }
 },
 "nbformat": 4,
 "nbformat_minor": 2
}
